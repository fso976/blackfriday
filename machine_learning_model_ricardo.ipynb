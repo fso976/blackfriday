{
 "cells": [
  {
   "cell_type": "code",
   "execution_count": 1,
   "metadata": {},
   "outputs": [],
   "source": [
    "# import the library\n",
    "%matplotlib inline\n",
    "\n",
    "import pandas as pd\n",
    "import numpy as np\n",
    "import matplotlib.pyplot as plt\n",
    "import seaborn as sns\n",
    "\n",
    "# sklearn :: utils\n",
    "from sklearn.model_selection import train_test_split\n",
    "\n",
    "# sklearn :: models\n",
    "from sklearn.linear_model import LinearRegression\n",
    "from sklearn.ensemble import RandomForestRegressor\n",
    "\n",
    "# sklearn :: evaluation metrics\n",
    "from sklearn.metrics import mean_absolute_error\n",
    "from sklearn.metrics import mean_squared_error\n",
    "\n",
    "sns.set_style('whitegrid')"
   ]
  },
  {
   "cell_type": "markdown",
   "metadata": {},
   "source": [
    "# Problem definition"
   ]
  },
  {
   "cell_type": "markdown",
   "metadata": {},
   "source": [
    "Apply regression models to predict the amount of purchase"
   ]
  },
  {
   "cell_type": "markdown",
   "metadata": {},
   "source": [
    "# Load the data"
   ]
  },
  {
   "cell_type": "code",
   "execution_count": 2,
   "metadata": {},
   "outputs": [
    {
     "name": "stdout",
     "output_type": "stream",
     "text": [
      "Index(['User_ID', 'Product_ID', 'Gender', 'Age', 'Occupation', 'City_Category',\n",
      "       'Stay_In_Current_City_Years', 'Marital_Status', 'Product_Category_1',\n",
      "       'Product_Category_2', 'Product_Category_3', 'Purchase'],\n",
      "      dtype='object')\n"
     ]
    },
    {
     "data": {
      "text/html": [
       "<div>\n",
       "<style scoped>\n",
       "    .dataframe tbody tr th:only-of-type {\n",
       "        vertical-align: middle;\n",
       "    }\n",
       "\n",
       "    .dataframe tbody tr th {\n",
       "        vertical-align: top;\n",
       "    }\n",
       "\n",
       "    .dataframe thead th {\n",
       "        text-align: right;\n",
       "    }\n",
       "</style>\n",
       "<table border=\"1\" class=\"dataframe\">\n",
       "  <thead>\n",
       "    <tr style=\"text-align: right;\">\n",
       "      <th></th>\n",
       "      <th>User_ID</th>\n",
       "      <th>Product_ID</th>\n",
       "      <th>Gender</th>\n",
       "      <th>Age</th>\n",
       "      <th>Occupation</th>\n",
       "      <th>City_Category</th>\n",
       "      <th>Stay_In_Current_City_Years</th>\n",
       "      <th>Marital_Status</th>\n",
       "      <th>Product_Category_1</th>\n",
       "      <th>Product_Category_2</th>\n",
       "      <th>Product_Category_3</th>\n",
       "      <th>Purchase</th>\n",
       "    </tr>\n",
       "  </thead>\n",
       "  <tbody>\n",
       "    <tr>\n",
       "      <th>0</th>\n",
       "      <td>1000001</td>\n",
       "      <td>P00069042</td>\n",
       "      <td>F</td>\n",
       "      <td>0-17</td>\n",
       "      <td>10</td>\n",
       "      <td>A</td>\n",
       "      <td>2</td>\n",
       "      <td>0</td>\n",
       "      <td>3</td>\n",
       "      <td>0</td>\n",
       "      <td>0</td>\n",
       "      <td>8370</td>\n",
       "    </tr>\n",
       "    <tr>\n",
       "      <th>1</th>\n",
       "      <td>1000001</td>\n",
       "      <td>P00248942</td>\n",
       "      <td>F</td>\n",
       "      <td>0-17</td>\n",
       "      <td>10</td>\n",
       "      <td>A</td>\n",
       "      <td>2</td>\n",
       "      <td>0</td>\n",
       "      <td>1</td>\n",
       "      <td>6</td>\n",
       "      <td>14</td>\n",
       "      <td>15200</td>\n",
       "    </tr>\n",
       "    <tr>\n",
       "      <th>2</th>\n",
       "      <td>1000001</td>\n",
       "      <td>P00087842</td>\n",
       "      <td>F</td>\n",
       "      <td>0-17</td>\n",
       "      <td>10</td>\n",
       "      <td>A</td>\n",
       "      <td>2</td>\n",
       "      <td>0</td>\n",
       "      <td>12</td>\n",
       "      <td>0</td>\n",
       "      <td>0</td>\n",
       "      <td>1422</td>\n",
       "    </tr>\n",
       "    <tr>\n",
       "      <th>3</th>\n",
       "      <td>1000001</td>\n",
       "      <td>P00085442</td>\n",
       "      <td>F</td>\n",
       "      <td>0-17</td>\n",
       "      <td>10</td>\n",
       "      <td>A</td>\n",
       "      <td>2</td>\n",
       "      <td>0</td>\n",
       "      <td>12</td>\n",
       "      <td>14</td>\n",
       "      <td>0</td>\n",
       "      <td>1057</td>\n",
       "    </tr>\n",
       "    <tr>\n",
       "      <th>4</th>\n",
       "      <td>1000002</td>\n",
       "      <td>P00285442</td>\n",
       "      <td>M</td>\n",
       "      <td>55+</td>\n",
       "      <td>16</td>\n",
       "      <td>C</td>\n",
       "      <td>4+</td>\n",
       "      <td>0</td>\n",
       "      <td>8</td>\n",
       "      <td>0</td>\n",
       "      <td>0</td>\n",
       "      <td>7969</td>\n",
       "    </tr>\n",
       "  </tbody>\n",
       "</table>\n",
       "</div>"
      ],
      "text/plain": [
       "   User_ID Product_ID Gender   Age  Occupation City_Category  \\\n",
       "0  1000001  P00069042      F  0-17          10             A   \n",
       "1  1000001  P00248942      F  0-17          10             A   \n",
       "2  1000001  P00087842      F  0-17          10             A   \n",
       "3  1000001  P00085442      F  0-17          10             A   \n",
       "4  1000002  P00285442      M   55+          16             C   \n",
       "\n",
       "  Stay_In_Current_City_Years  Marital_Status  Product_Category_1  \\\n",
       "0                          2               0                   3   \n",
       "1                          2               0                   1   \n",
       "2                          2               0                  12   \n",
       "3                          2               0                  12   \n",
       "4                         4+               0                   8   \n",
       "\n",
       "   Product_Category_2  Product_Category_3  Purchase  \n",
       "0                   0                   0      8370  \n",
       "1                   6                  14     15200  \n",
       "2                   0                   0      1422  \n",
       "3                  14                   0      1057  \n",
       "4                   0                   0      7969  "
      ]
     },
     "execution_count": 2,
     "metadata": {},
     "output_type": "execute_result"
    }
   ],
   "source": [
    "#input\n",
    "df_original = pd.read_csv('black_friday_processed.csv')\n",
    "df = df_original.copy()\n",
    "print(df.columns)\n",
    "df.head()"
   ]
  },
  {
   "cell_type": "code",
   "execution_count": 3,
   "metadata": {},
   "outputs": [
    {
     "data": {
      "text/plain": [
       "User_ID                        int64\n",
       "Product_ID                    object\n",
       "Gender                        object\n",
       "Age                           object\n",
       "Occupation                     int64\n",
       "City_Category                 object\n",
       "Stay_In_Current_City_Years    object\n",
       "Marital_Status                 int64\n",
       "Product_Category_1             int64\n",
       "Product_Category_2             int64\n",
       "Product_Category_3             int64\n",
       "Purchase                       int64\n",
       "dtype: object"
      ]
     },
     "execution_count": 3,
     "metadata": {},
     "output_type": "execute_result"
    }
   ],
   "source": [
    "df.dtypes"
   ]
  },
  {
   "cell_type": "markdown",
   "metadata": {},
   "source": [
    "# Feature Engineering "
   ]
  },
  {
   "cell_type": "code",
   "execution_count": 4,
   "metadata": {
    "scrolled": true
   },
   "outputs": [
    {
     "data": {
      "text/html": [
       "<div>\n",
       "<style scoped>\n",
       "    .dataframe tbody tr th:only-of-type {\n",
       "        vertical-align: middle;\n",
       "    }\n",
       "\n",
       "    .dataframe tbody tr th {\n",
       "        vertical-align: top;\n",
       "    }\n",
       "\n",
       "    .dataframe thead th {\n",
       "        text-align: right;\n",
       "    }\n",
       "</style>\n",
       "<table border=\"1\" class=\"dataframe\">\n",
       "  <thead>\n",
       "    <tr style=\"text-align: right;\">\n",
       "      <th></th>\n",
       "      <th>User_ID</th>\n",
       "      <th>Product_ID</th>\n",
       "      <th>Purchase</th>\n",
       "      <th>Gender_F</th>\n",
       "      <th>Gender_M</th>\n",
       "      <th>Age_0-17</th>\n",
       "      <th>Age_18-25</th>\n",
       "      <th>Age_26-35</th>\n",
       "      <th>Age_36-45</th>\n",
       "      <th>Age_46-50</th>\n",
       "      <th>...</th>\n",
       "      <th>Product_Category_3_9</th>\n",
       "      <th>Product_Category_3_10</th>\n",
       "      <th>Product_Category_3_11</th>\n",
       "      <th>Product_Category_3_12</th>\n",
       "      <th>Product_Category_3_13</th>\n",
       "      <th>Product_Category_3_14</th>\n",
       "      <th>Product_Category_3_15</th>\n",
       "      <th>Product_Category_3_16</th>\n",
       "      <th>Product_Category_3_17</th>\n",
       "      <th>Product_Category_3_18</th>\n",
       "    </tr>\n",
       "  </thead>\n",
       "  <tbody>\n",
       "    <tr>\n",
       "      <th>0</th>\n",
       "      <td>1000001</td>\n",
       "      <td>P00069042</td>\n",
       "      <td>8370</td>\n",
       "      <td>1</td>\n",
       "      <td>0</td>\n",
       "      <td>1</td>\n",
       "      <td>0</td>\n",
       "      <td>0</td>\n",
       "      <td>0</td>\n",
       "      <td>0</td>\n",
       "      <td>...</td>\n",
       "      <td>0</td>\n",
       "      <td>0</td>\n",
       "      <td>0</td>\n",
       "      <td>0</td>\n",
       "      <td>0</td>\n",
       "      <td>0</td>\n",
       "      <td>0</td>\n",
       "      <td>0</td>\n",
       "      <td>0</td>\n",
       "      <td>0</td>\n",
       "    </tr>\n",
       "    <tr>\n",
       "      <th>1</th>\n",
       "      <td>1000001</td>\n",
       "      <td>P00248942</td>\n",
       "      <td>15200</td>\n",
       "      <td>1</td>\n",
       "      <td>0</td>\n",
       "      <td>1</td>\n",
       "      <td>0</td>\n",
       "      <td>0</td>\n",
       "      <td>0</td>\n",
       "      <td>0</td>\n",
       "      <td>...</td>\n",
       "      <td>0</td>\n",
       "      <td>0</td>\n",
       "      <td>0</td>\n",
       "      <td>0</td>\n",
       "      <td>0</td>\n",
       "      <td>1</td>\n",
       "      <td>0</td>\n",
       "      <td>0</td>\n",
       "      <td>0</td>\n",
       "      <td>0</td>\n",
       "    </tr>\n",
       "    <tr>\n",
       "      <th>2</th>\n",
       "      <td>1000001</td>\n",
       "      <td>P00087842</td>\n",
       "      <td>1422</td>\n",
       "      <td>1</td>\n",
       "      <td>0</td>\n",
       "      <td>1</td>\n",
       "      <td>0</td>\n",
       "      <td>0</td>\n",
       "      <td>0</td>\n",
       "      <td>0</td>\n",
       "      <td>...</td>\n",
       "      <td>0</td>\n",
       "      <td>0</td>\n",
       "      <td>0</td>\n",
       "      <td>0</td>\n",
       "      <td>0</td>\n",
       "      <td>0</td>\n",
       "      <td>0</td>\n",
       "      <td>0</td>\n",
       "      <td>0</td>\n",
       "      <td>0</td>\n",
       "    </tr>\n",
       "    <tr>\n",
       "      <th>3</th>\n",
       "      <td>1000001</td>\n",
       "      <td>P00085442</td>\n",
       "      <td>1057</td>\n",
       "      <td>1</td>\n",
       "      <td>0</td>\n",
       "      <td>1</td>\n",
       "      <td>0</td>\n",
       "      <td>0</td>\n",
       "      <td>0</td>\n",
       "      <td>0</td>\n",
       "      <td>...</td>\n",
       "      <td>0</td>\n",
       "      <td>0</td>\n",
       "      <td>0</td>\n",
       "      <td>0</td>\n",
       "      <td>0</td>\n",
       "      <td>0</td>\n",
       "      <td>0</td>\n",
       "      <td>0</td>\n",
       "      <td>0</td>\n",
       "      <td>0</td>\n",
       "    </tr>\n",
       "    <tr>\n",
       "      <th>4</th>\n",
       "      <td>1000002</td>\n",
       "      <td>P00285442</td>\n",
       "      <td>7969</td>\n",
       "      <td>0</td>\n",
       "      <td>1</td>\n",
       "      <td>0</td>\n",
       "      <td>0</td>\n",
       "      <td>0</td>\n",
       "      <td>0</td>\n",
       "      <td>0</td>\n",
       "      <td>...</td>\n",
       "      <td>0</td>\n",
       "      <td>0</td>\n",
       "      <td>0</td>\n",
       "      <td>0</td>\n",
       "      <td>0</td>\n",
       "      <td>0</td>\n",
       "      <td>0</td>\n",
       "      <td>0</td>\n",
       "      <td>0</td>\n",
       "      <td>0</td>\n",
       "    </tr>\n",
       "  </tbody>\n",
       "</table>\n",
       "<p>5 rows × 95 columns</p>\n",
       "</div>"
      ],
      "text/plain": [
       "   User_ID Product_ID  Purchase  Gender_F  Gender_M  Age_0-17  Age_18-25  \\\n",
       "0  1000001  P00069042      8370         1         0         1          0   \n",
       "1  1000001  P00248942     15200         1         0         1          0   \n",
       "2  1000001  P00087842      1422         1         0         1          0   \n",
       "3  1000001  P00085442      1057         1         0         1          0   \n",
       "4  1000002  P00285442      7969         0         1         0          0   \n",
       "\n",
       "   Age_26-35  Age_36-45  Age_46-50          ...            \\\n",
       "0          0          0          0          ...             \n",
       "1          0          0          0          ...             \n",
       "2          0          0          0          ...             \n",
       "3          0          0          0          ...             \n",
       "4          0          0          0          ...             \n",
       "\n",
       "   Product_Category_3_9  Product_Category_3_10  Product_Category_3_11  \\\n",
       "0                     0                      0                      0   \n",
       "1                     0                      0                      0   \n",
       "2                     0                      0                      0   \n",
       "3                     0                      0                      0   \n",
       "4                     0                      0                      0   \n",
       "\n",
       "   Product_Category_3_12  Product_Category_3_13  Product_Category_3_14  \\\n",
       "0                      0                      0                      0   \n",
       "1                      0                      0                      1   \n",
       "2                      0                      0                      0   \n",
       "3                      0                      0                      0   \n",
       "4                      0                      0                      0   \n",
       "\n",
       "   Product_Category_3_15  Product_Category_3_16  Product_Category_3_17  \\\n",
       "0                      0                      0                      0   \n",
       "1                      0                      0                      0   \n",
       "2                      0                      0                      0   \n",
       "3                      0                      0                      0   \n",
       "4                      0                      0                      0   \n",
       "\n",
       "   Product_Category_3_18  \n",
       "0                      0  \n",
       "1                      0  \n",
       "2                      0  \n",
       "3                      0  \n",
       "4                      0  \n",
       "\n",
       "[5 rows x 95 columns]"
      ]
     },
     "execution_count": 4,
     "metadata": {},
     "output_type": "execute_result"
    }
   ],
   "source": [
    "# TODO: create a loop to transform the categorical columns to numerical\n",
    "for col in ['Gender', 'Age', 'Occupation', 'City_Category', 'Stay_In_Current_City_Years', 'Marital_Status', 'Product_Category_1', 'Product_Category_2', 'Product_Category_3']:\n",
    "    df_dummies = pd.get_dummies(df[col], prefix=col)\n",
    "    df = pd.concat([df, df_dummies], axis=1)\n",
    "    # Remove the original columns\n",
    "    del df[col]\n",
    "df.head()"
   ]
  },
  {
   "cell_type": "code",
   "execution_count": null,
   "metadata": {},
   "outputs": [
    {
     "data": {
      "text/plain": [
       "User_ID                   int64\n",
       "Product_ID               object\n",
       "Purchase                  int64\n",
       "Gender_F                  uint8\n",
       "Gender_M                  uint8\n",
       "Age_0-17                  uint8\n",
       "Age_18-25                 uint8\n",
       "Age_26-35                 uint8\n",
       "Age_36-45                 uint8\n",
       "Age_46-50                 uint8\n",
       "Age_51-55                 uint8\n",
       "Age_55+                   uint8\n",
       "Occupation_0              uint8\n",
       "Occupation_1              uint8\n",
       "Occupation_2              uint8\n",
       "Occupation_3              uint8\n",
       "Occupation_4              uint8\n",
       "Occupation_5              uint8\n",
       "Occupation_6              uint8\n",
       "Occupation_7              uint8\n",
       "Occupation_8              uint8\n",
       "Occupation_9              uint8\n",
       "Occupation_10             uint8\n",
       "Occupation_11             uint8\n",
       "Occupation_12             uint8\n",
       "Occupation_13             uint8\n",
       "Occupation_14             uint8\n",
       "Occupation_15             uint8\n",
       "Occupation_16             uint8\n",
       "Occupation_17             uint8\n",
       "                          ...  \n",
       "Product_Category_2_5      uint8\n",
       "Product_Category_2_6      uint8\n",
       "Product_Category_2_7      uint8\n",
       "Product_Category_2_8      uint8\n",
       "Product_Category_2_9      uint8\n",
       "Product_Category_2_10     uint8\n",
       "Product_Category_2_11     uint8\n",
       "Product_Category_2_12     uint8\n",
       "Product_Category_2_13     uint8\n",
       "Product_Category_2_14     uint8\n",
       "Product_Category_2_15     uint8\n",
       "Product_Category_2_16     uint8\n",
       "Product_Category_2_17     uint8\n",
       "Product_Category_2_18     uint8\n",
       "Product_Category_3_0      uint8\n",
       "Product_Category_3_3      uint8\n",
       "Product_Category_3_4      uint8\n",
       "Product_Category_3_5      uint8\n",
       "Product_Category_3_6      uint8\n",
       "Product_Category_3_8      uint8\n",
       "Product_Category_3_9      uint8\n",
       "Product_Category_3_10     uint8\n",
       "Product_Category_3_11     uint8\n",
       "Product_Category_3_12     uint8\n",
       "Product_Category_3_13     uint8\n",
       "Product_Category_3_14     uint8\n",
       "Product_Category_3_15     uint8\n",
       "Product_Category_3_16     uint8\n",
       "Product_Category_3_17     uint8\n",
       "Product_Category_3_18     uint8\n",
       "Length: 95, dtype: object"
      ]
     },
     "execution_count": 5,
     "metadata": {},
     "output_type": "execute_result"
    }
   ],
   "source": [
    "df.dtypes"
   ]
  },
  {
   "cell_type": "code",
   "execution_count": null,
   "metadata": {},
   "outputs": [
    {
     "data": {
      "text/plain": [
       "['User_ID',\n",
       " 'Gender_F',\n",
       " 'Gender_M',\n",
       " 'Age_0-17',\n",
       " 'Age_18-25',\n",
       " 'Age_26-35',\n",
       " 'Age_36-45',\n",
       " 'Age_46-50',\n",
       " 'Age_51-55',\n",
       " 'Age_55+',\n",
       " 'Occupation_0',\n",
       " 'Occupation_1',\n",
       " 'Occupation_2',\n",
       " 'Occupation_3',\n",
       " 'Occupation_4',\n",
       " 'Occupation_5',\n",
       " 'Occupation_6',\n",
       " 'Occupation_7',\n",
       " 'Occupation_8',\n",
       " 'Occupation_9',\n",
       " 'Occupation_10',\n",
       " 'Occupation_11',\n",
       " 'Occupation_12',\n",
       " 'Occupation_13',\n",
       " 'Occupation_14',\n",
       " 'Occupation_15',\n",
       " 'Occupation_16',\n",
       " 'Occupation_17',\n",
       " 'Occupation_18',\n",
       " 'Occupation_19',\n",
       " 'Occupation_20',\n",
       " 'City_Category_A',\n",
       " 'City_Category_B',\n",
       " 'City_Category_C',\n",
       " 'Stay_In_Current_City_Years_0',\n",
       " 'Stay_In_Current_City_Years_1',\n",
       " 'Stay_In_Current_City_Years_2',\n",
       " 'Stay_In_Current_City_Years_3',\n",
       " 'Stay_In_Current_City_Years_4+',\n",
       " 'Marital_Status_0',\n",
       " 'Marital_Status_1',\n",
       " 'Product_Category_1_1',\n",
       " 'Product_Category_1_2',\n",
       " 'Product_Category_1_3',\n",
       " 'Product_Category_1_4',\n",
       " 'Product_Category_1_5',\n",
       " 'Product_Category_1_6',\n",
       " 'Product_Category_1_7',\n",
       " 'Product_Category_1_8',\n",
       " 'Product_Category_1_9',\n",
       " 'Product_Category_1_10',\n",
       " 'Product_Category_1_11',\n",
       " 'Product_Category_1_12',\n",
       " 'Product_Category_1_13',\n",
       " 'Product_Category_1_14',\n",
       " 'Product_Category_1_15',\n",
       " 'Product_Category_1_16',\n",
       " 'Product_Category_1_17',\n",
       " 'Product_Category_1_18',\n",
       " 'Product_Category_2_0',\n",
       " 'Product_Category_2_2',\n",
       " 'Product_Category_2_3',\n",
       " 'Product_Category_2_4',\n",
       " 'Product_Category_2_5',\n",
       " 'Product_Category_2_6',\n",
       " 'Product_Category_2_7',\n",
       " 'Product_Category_2_8',\n",
       " 'Product_Category_2_9',\n",
       " 'Product_Category_2_10',\n",
       " 'Product_Category_2_11',\n",
       " 'Product_Category_2_12',\n",
       " 'Product_Category_2_13',\n",
       " 'Product_Category_2_14',\n",
       " 'Product_Category_2_15',\n",
       " 'Product_Category_2_16',\n",
       " 'Product_Category_2_17',\n",
       " 'Product_Category_2_18',\n",
       " 'Product_Category_3_0',\n",
       " 'Product_Category_3_3',\n",
       " 'Product_Category_3_4',\n",
       " 'Product_Category_3_5',\n",
       " 'Product_Category_3_6',\n",
       " 'Product_Category_3_8',\n",
       " 'Product_Category_3_9',\n",
       " 'Product_Category_3_10',\n",
       " 'Product_Category_3_11',\n",
       " 'Product_Category_3_12',\n",
       " 'Product_Category_3_13',\n",
       " 'Product_Category_3_14',\n",
       " 'Product_Category_3_15',\n",
       " 'Product_Category_3_16',\n",
       " 'Product_Category_3_17',\n",
       " 'Product_Category_3_18']"
      ]
     },
     "execution_count": 6,
     "metadata": {},
     "output_type": "execute_result"
    }
   ],
   "source": [
    "# select the columns\n",
    "X_columns = [x for x in df.columns if x != 'Purchase' and df.loc[:,x].dtype != object]\n",
    "y_column = ['Purchase']\n",
    "list(X_columns)"
   ]
  },
  {
   "cell_type": "markdown",
   "metadata": {},
   "source": [
    "# Model Training"
   ]
  },
  {
   "cell_type": "code",
   "execution_count": null,
   "metadata": {},
   "outputs": [
    {
     "name": "stdout",
     "output_type": "stream",
     "text": [
      "X_train (430061, 93)\n",
      "y_train (430061, 1)\n",
      "X_test (107516, 93)\n",
      "y_test (107516, 1)\n"
     ]
    }
   ],
   "source": [
    "# split the data\n",
    "\n",
    "df = df.sample(frac=1).reset_index(drop=True)\n",
    "\n",
    "threshold = 0.8\n",
    "absolute_threshold = int(len(df)*threshold)\n",
    "\n",
    "X_train = df.iloc[:absolute_threshold][X_columns]\n",
    "y_train = df.iloc[:absolute_threshold][y_column]\n",
    "\n",
    "X_test = df.iloc[absolute_threshold:][X_columns]\n",
    "y_test = df.iloc[absolute_threshold:][y_column]\n",
    "\n",
    "print('X_train', X_train.shape)\n",
    "print('y_train', y_train.shape)\n",
    "print('X_test', X_test.shape)\n",
    "print('y_test', y_test.shape)"
   ]
  },
  {
   "cell_type": "code",
   "execution_count": null,
   "metadata": {},
   "outputs": [
    {
     "name": "stdout",
     "output_type": "stream",
     "text": [
      "X_train (430061, 93)\n",
      "y_train (430061, 1)\n",
      "X_test (107516, 93)\n",
      "y_test (107516, 1)\n"
     ]
    }
   ],
   "source": [
    "# TODO: split the data using sklearn train_test_split\n",
    "threshold = 0.8\n",
    "X = df[X_columns]\n",
    "y = df[y_column]\n",
    "\n",
    "X_train, X_test, y_train, y_test = train_test_split(X, y, test_size=1.0-threshold, shuffle=True)\n",
    "\n",
    "print('X_train', X_train.shape)\n",
    "print('y_train', y_train.shape)\n",
    "print('X_test', X_test.shape)\n",
    "print('y_test', y_test.shape)\n"
   ]
  },
  {
   "cell_type": "code",
   "execution_count": null,
   "metadata": {},
   "outputs": [],
   "source": [
    "# TODO: train a linear regression\n",
    "from sklearn.linear_model import LinearRegression\n",
    "model = LinearRegression()\n",
    "model.fit(X_train, y_train)\n",
    "y_pred = model.predict(X_test)"
   ]
  },
  {
   "cell_type": "markdown",
   "metadata": {},
   "source": [
    "# Model Evaluation"
   ]
  },
  {
   "cell_type": "code",
   "execution_count": null,
   "metadata": {},
   "outputs": [
    {
     "name": "stdout",
     "output_type": "stream",
     "text": [
      "MAE 2276.17\n"
     ]
    },
    {
     "data": {
      "image/png": "[encoded data removed]",
      "text/plain": [
       "<Figure size 432x288 with 1 Axes>"
      ]
     },
     "metadata": {
      "needs_background": "light"
     },
     "output_type": "display_data"
    }
   ],
   "source": [
    "mae = mean_absolute_error(y_test, y_pred)\n",
    "print('MAE', round(mae, 2))\n",
    "plt.scatter(y_test, y_pred, alpha=0.3)\n",
    "plt.plot(range(0,10), range(0,10), '--r', alpha=0.3, label='Line1')\n",
    "plt.title('Linear Regression')\n",
    "plt.xlabel('True Value')\n",
    "plt.ylabel('Predict Value')\n",
    "# plt.xlim([0, 100])\n",
    "# plt.ylim([0, 100])\n",
    "plt.show()"
   ]
  },
  {
   "cell_type": "code",
   "execution_count": null,
   "metadata": {},
   "outputs": [
    {
     "data": {
      "text/plain": [
       "3001.0759994262203"
      ]
     },
     "execution_count": 11,
     "metadata": {},
     "output_type": "execute_result"
    }
   ],
   "source": [
    "# TODO: calculate the RMSE\n",
    "np.sqrt(mean_squared_error(y_test, y_pred))"
   ]
  },
  {
   "cell_type": "markdown",
   "metadata": {},
   "source": [
    "# KNN"
   ]
  },
  {
   "cell_type": "code",
   "execution_count": null,
   "metadata": {},
   "outputs": [
    {
     "data": {
      "text/plain": [
       "2786.4212777633093"
      ]
     },
     "execution_count": 12,
     "metadata": {},
     "output_type": "execute_result"
    }
   ],
   "source": [
    "# TODO: train a knn model\n",
    "from sklearn.neighbors import KNeighborsRegressor\n",
    "model = KNeighborsRegressor(10)\n",
    "model.fit(X_train, y_train)\n",
    "y_pred = model.predict(X_test)\n",
    "mean_absolute_error(y_test, y_pred)"
   ]
  },
  {
   "cell_type": "markdown",
   "metadata": {},
   "source": [
    "# Decision Tree"
   ]
  },
  {
   "cell_type": "code",
   "execution_count": null,
   "metadata": {},
   "outputs": [
    {
     "data": {
      "text/plain": [
       "2401.41099928456"
      ]
     },
     "execution_count": 13,
     "metadata": {},
     "output_type": "execute_result"
    }
   ],
   "source": [
    "from sklearn.tree import DecisionTreeRegressor\n",
    "model = DecisionTreeRegressor()\n",
    "model.fit(X_train, y_train)\n",
    "y_pred = model.predict(X_test)\n",
    "mean_absolute_error(y_test, y_pred)"
   ]
  },
  {
   "cell_type": "markdown",
   "metadata": {},
   "source": [
    "# Experiments"
   ]
  },
  {
   "cell_type": "code",
   "execution_count": null,
   "metadata": {
    "scrolled": true
   },
   "outputs": [
    {
     "name": "stdout",
     "output_type": "stream",
     "text": [
      "Linear Regression\n",
      "MAE 2276.16990717715\n",
      "RMSE 3001.0759994262203\n"
     ]
    },
    {
     "data": {
      "image/png": "[encoded data removed]",
      "text/plain": [
       "<Figure size 432x288 with 1 Axes>"
      ]
     },
     "metadata": {
      "needs_background": "light"
     },
     "output_type": "display_data"
    },
    {
     "name": "stdout",
     "output_type": "stream",
     "text": [
      "\n",
      "KNN 5\n",
      "MAE 2718.920988504036\n",
      "RMSE 3739.42213417774\n"
     ]
    },
    {
     "data": {
      "image/png": "[encoded data removed]",
      "text/plain": [
       "<Figure size 432x288 with 1 Axes>"
      ]
     },
     "metadata": {
      "needs_background": "light"
     },
     "output_type": "display_data"
    },
    {
     "name": "stdout",
     "output_type": "stream",
     "text": [
      "\n",
      "KNN 2\n",
      "MAE 2791.8902814464823\n",
      "RMSE 3920.5021541770557\n"
     ]
    },
    {
     "data": {
      "image/png": "[encoded data removed]",
      "text/plain": [
       "<Figure size 432x288 with 1 Axes>"
      ]
     },
     "metadata": {
      "needs_background": "light"
     },
     "output_type": "display_data"
    },
    {
     "name": "stdout",
     "output_type": "stream",
     "text": [
      "\n",
      "Decision Tree\n",
      "MAE 2403.4121098058827\n",
      "RMSE 3459.332914638487\n"
     ]
    },
    {
     "data": {
      "image/png": "[encoded data removed]",
      "text/plain": [
       "<Figure size 432x288 with 1 Axes>"
      ]
     },
     "metadata": {
      "needs_background": "light"
     },
     "output_type": "display_data"
    },
    {
     "name": "stdout",
     "output_type": "stream",
     "text": [
      "\n"
     ]
    },
    {
     "name": "stderr",
     "output_type": "stream",
     "text": [
      "/home/dragon/anaconda3/lib/python3.7/site-packages/ipykernel_launcher.py:2: DataConversionWarning: A column-vector y was passed when a 1d array was expected. Please change the shape of y to (n_samples,), for example using ravel().\n",
      "  \n"
     ]
    },
    {
     "name": "stdout",
     "output_type": "stream",
     "text": [
      "Random Forest 10\n",
      "MAE 2207.281385798221\n",
      "RMSE 3042.926441219351\n"
     ]
    },
    {
     "data": {
      "image/png": "[encoded data removed]",
      "text/plain": [
       "<Figure size 432x288 with 1 Axes>"
      ]
     },
     "metadata": {
      "needs_background": "light"
     },
     "output_type": "display_data"
    },
    {
     "name": "stdout",
     "output_type": "stream",
     "text": [
      "\n"
     ]
    },
    {
     "name": "stderr",
     "output_type": "stream",
     "text": [
      "/home/dragon/anaconda3/lib/python3.7/site-packages/ipykernel_launcher.py:2: DataConversionWarning: A column-vector y was passed when a 1d array was expected. Please change the shape of y to (n_samples,), for example using ravel().\n",
      "  \n"
     ]
    }
   ],
   "source": [
    "def model_training(model_name, model, X_train, y_train):\n",
    "    model.fit(X_train, y_train)\n",
    "    return model\n",
    "    \n",
    "def model_prediction(model, X_test):\n",
    "    y_pred = model.predict(X_test)\n",
    "    return y_pred\n",
    "\n",
    "def model_evaluation(model_name, y_test, y_pred):\n",
    "    print(model_name)\n",
    "    print('MAE', mean_absolute_error(y_test, y_pred))\n",
    "    print('RMSE', np.sqrt(mean_squared_error(y_test, y_pred)))\n",
    "    plt.scatter(y_test, y_pred, alpha=0.3)\n",
    "    plt.plot(range(0,5000000, 100), range(0,5000000, 100), '--r', alpha=0.3, label='Line1')\n",
    "    plt.title(model_name)\n",
    "    plt.xlabel('True Value')\n",
    "    plt.ylabel('Predict Value')\n",
    "    plt.xlim([0, 5000000])\n",
    "    plt.ylim([0, 5000000])\n",
    "    plt.show()\n",
    "    print('')\n",
    "\n",
    "def run_experiment(model_name, model, X_train, y_train, X_test):\n",
    "    train_model = model_training(model_name, model, X_train, y_train)\n",
    "    predictions = model_prediction(train_model, X_test)\n",
    "    model_evaluation(model_name, y_test, predictions)\n",
    "    \n",
    "run_experiment('Linear Regression', LinearRegression(), X_train, y_train, X_test)\n",
    "run_experiment('KNN 5', KNeighborsRegressor(5), X_train, y_train, X_test)\n",
    "run_experiment('KNN 2', KNeighborsRegressor(2), X_train, y_train, X_test)\n",
    "run_experiment('Decision Tree', DecisionTreeRegressor(), X_train, y_train, X_test)\n",
    "run_experiment('Random Forest 10', RandomForestRegressor(10), X_train, y_train, X_test)\n",
    "run_experiment('Random Forest 100', RandomForestRegressor(100), X_train, y_train, X_test)\n"
   ]
  },
  {
   "cell_type": "markdown",
   "metadata": {},
   "source": [
    "# Error Analysis"
   ]
  },
  {
   "cell_type": "code",
   "execution_count": null,
   "metadata": {},
   "outputs": [],
   "source": [
    "model = RandomForestRegressor(100)\n",
    "model.fit(X_train, y_train)\n",
    "y_pred = model.predict(X_test)\n",
    "print(y_pred)"
   ]
  },
  {
   "cell_type": "code",
   "execution_count": null,
   "metadata": {},
   "outputs": [],
   "source": [
    "#for i in range(len(X_test.columns)):\n",
    "fi = []\n",
    "for i, col in enumerate(X_test.columns):\n",
    "    fi.append([col, model.feature_importances_[i]])\n",
    "pd.DataFrame(fi).sort_values(1, ascending=False)"
   ]
  },
  {
   "cell_type": "code",
   "execution_count": null,
   "metadata": {
    "scrolled": true
   },
   "outputs": [],
   "source": [
    "df_test = pd.DataFrame(X_test).copy()\n",
    "df_test['price'] = y_test\n",
    "df_test['prediction'] = y_pred\n",
    "df_test['abs_error'] = abs(df_test['price']-df_test['prediction'])\n",
    "df_test.sort_values(by='abs_error', ascending=False).round()"
   ]
  },
  {
   "cell_type": "code",
   "execution_count": null,
   "metadata": {},
   "outputs": [],
   "source": [
    "plt.hist(df_test['abs_error'], bins=30)\n",
    "plt.show()"
   ]
  },
  {
   "cell_type": "code",
   "execution_count": null,
   "metadata": {},
   "outputs": [],
   "source": [
    "df_error = df_test[df_test['abs_error']>500000]\n",
    "df_error"
   ]
  },
  {
   "cell_type": "code",
   "execution_count": null,
   "metadata": {},
   "outputs": [],
   "source": [
    "df_error.describe()"
   ]
  },
  {
   "cell_type": "code",
   "execution_count": null,
   "metadata": {},
   "outputs": [],
   "source": [
    "df_error.corr()['abs_error'].dropna().sort_values()"
   ]
  },
  {
   "cell_type": "code",
   "execution_count": null,
   "metadata": {},
   "outputs": [],
   "source": [
    "len(df_test[df_test[98004]==1])"
   ]
  },
  {
   "cell_type": "code",
   "execution_count": null,
   "metadata": {},
   "outputs": [],
   "source": [
    "df[df['zipcode']==98004][['mean_income', 'median_income']]"
   ]
  },
  {
   "cell_type": "code",
   "execution_count": null,
   "metadata": {},
   "outputs": [],
   "source": [
    "plt.hist(df[df['zipcode']==98004]['price'], bins=30)\n",
    "plt.show()"
   ]
  },
  {
   "cell_type": "markdown",
   "metadata": {},
   "source": [
    "# Cross Validation"
   ]
  },
  {
   "cell_type": "code",
   "execution_count": null,
   "metadata": {},
   "outputs": [],
   "source": [
    "# models = [\n",
    "#     ('LinearRegression', LinearRegression()),\n",
    "#     ('RandomForestRegressor10', RandomForestRegressor(n_estimators=10)),\n",
    "#     ('RandomForestRegressor100', RandomForestRegressor(n_estimators=100, n_jobs=4)),\n",
    "#     ('KNeighborsRegressor', KNeighborsRegressor()),\n",
    "#     ('DecisionTreeRegressor', DecisionTreeRegressor())\n",
    "# ]\n",
    "\n",
    "# k = 10\n",
    "# results = {}\n",
    "# for m in models:\n",
    "#     print('MODEL', m[0])\n",
    "#     results[m[0]] = {'mae':[], 'rmse':[]}\n",
    "#     kf = KFold(n_splits=k)\n",
    "#     for train_index, test_index in kf.split(X):\n",
    "#         X_train_k, X_test_k = X.values[train_index], X.values[test_index]\n",
    "#         y_train_k, y_test_k = y.values[train_index], y.values[test_index]\n",
    "#         model = m[1]\n",
    "#         model.fit(X_train_k, y_train_k.ravel())\n",
    "#         y_pred = model.predict(X_test_k)\n",
    "#         mae = mean_absolute_error(y_test_k, y_pred)\n",
    "#         rmse = np.sqrt(mean_squared_error(y_test_k, y_pred))\n",
    "#         results[m[0]]['mae'].append(mae)\n",
    "#         results[m[0]]['rmse'].append(rmse)"
   ]
  },
  {
   "cell_type": "code",
   "execution_count": null,
   "metadata": {},
   "outputs": [],
   "source": [
    "# for metric in ['mae', 'rmse']:\n",
    "#     values = []\n",
    "#     labels = []\n",
    "#     for model, result_values in results.items():\n",
    "#         for m, v in result_values.items():\n",
    "#             if m == metric:\n",
    "#                 labels.append(model)\n",
    "#                 values.append(v)\n",
    "#     plt.figure(figsize=(12,6))\n",
    "#     plt.title(metric)\n",
    "#     plt.boxplot(values)\n",
    "#     plt.xticks(range(1, len(labels)+1), labels, rotation='horizontal')\n",
    "#     plt.show()"
   ]
  },
  {
   "cell_type": "code",
   "execution_count": null,
   "metadata": {},
   "outputs": [],
   "source": []
  },
  {
   "cell_type": "code",
   "execution_count": null,
   "metadata": {},
   "outputs": [],
   "source": []
  },
  {
   "cell_type": "code",
   "execution_count": null,
   "metadata": {},
   "outputs": [],
   "source": []
  }
 ],
 "metadata": {
  "anaconda-cloud": {},
  "kernelspec": {
   "display_name": "Python 3",
   "language": "python",
   "name": "python3"
  },
  "language_info": {
   "codemirror_mode": {
    "name": "ipython",
    "version": 3
   },
   "file_extension": ".py",
   "mimetype": "text/x-python",
   "name": "python",
   "nbconvert_exporter": "python",
   "pygments_lexer": "ipython3",
   "version": "3.7.1"
  }
 },
 "nbformat": 4,
 "nbformat_minor": 1
}
