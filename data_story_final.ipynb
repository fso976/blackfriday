{
 "cells": [
  {
   "cell_type": "markdown",
   "metadata": {},
   "source": [
    "# Exploratory Data Analysis"
   ]
  },
  {
   "cell_type": "code",
   "execution_count": 1,
   "metadata": {},
   "outputs": [],
   "source": [
    "# import the libraries\n",
    "%matplotlib inline\n",
    "\n",
    "import pandas as pd\n",
    "import numpy as np\n",
    "import scipy\n",
    "import matplotlib.pyplot as plt\n",
    "import seaborn as sns\n",
    "\n",
    "# apply style to all the charts\n",
    "sns.set_style('whitegrid')"
   ]
  },
  {
   "cell_type": "markdown",
   "metadata": {},
   "source": [
    "## Load the clean dataset"
   ]
  },
  {
   "cell_type": "code",
   "execution_count": 2,
   "metadata": {},
   "outputs": [],
   "source": [
    "# Load the data\n",
    "df = pd.read_csv('black_friday_processed.csv')"
   ]
  },
  {
   "cell_type": "markdown",
   "metadata": {},
   "source": [
    "## Data Story"
   ]
  },
  {
   "cell_type": "markdown",
   "metadata": {},
   "source": [
    "### Set-up & Hook; Rising Insight #1; Rising Insight #2; Aha Moment; Solution & Next Steps"
   ]
  },
  {
   "cell_type": "code",
   "execution_count": 3,
   "metadata": {},
   "outputs": [],
   "source": [
    "# Catplot for Age x Purchase considering the Gender and the City Category\n",
    "sns.catplot(x = 'Age',\n",
    "           y = 'Purchase',\n",
    "           hue = 'Gender',\n",
    "           col = 'City_Category',\n",
    "           order = ['0-17', '18-25','26-35', '36-45','46-50', '51-55','55+'],\n",
    "           hue_order = ['M', 'F'],   \n",
    "           data = df)\n",
    "plt.savefig('figures/Data_Story_General.png')\n",
    "plt.clf()\n",
    "plt.close()"
   ]
  },
  {
   "cell_type": "markdown",
   "metadata": {},
   "source": [
    "The above figure shows us the distribution of purchase amounts for respective age group across the cities A, B and C.  Note that in general men in the 26-35 age group are our largest in number and in amount as our highest spending group across all three cities. Women, on the other hand, occurs to peak in number and purchase amount within the 46-50 age group except in City A where the majority of purchase were clearly made by the 0-17 age group.   \n",
    "\n",
    "Based on the above summary, we can advise the store manager to gear their sales effort on the said gender specific age groups on next black friday. The type of products to be chosen will depend on the store past experiences dealing with the respective age group with products that are known to be popular for specific gender."
   ]
  },
  {
   "cell_type": "code",
   "execution_count": 4,
   "metadata": {},
   "outputs": [],
   "source": [
    "# Catplot for Age x Purchase considering the Gender and the Marital Status\n",
    "\n",
    "sns.catplot(x = 'Age',\n",
    "           y = 'Purchase',\n",
    "           hue = 'Gender',\n",
    "           col = 'Marital_Status',\n",
    "           order = ['0-17', '18-25','26-35', '36-45','46-50', '51-55','55+'],\n",
    "           hue_order = ['M', 'F'],   \n",
    "           data = df)\n",
    "plt.savefig('figures/Data_Story_Specific.png')\n",
    "plt.clf()\n",
    "plt.close()"
   ]
  },
  {
   "cell_type": "markdown",
   "metadata": {},
   "source": [
    "To look again at the initial question we asked ourselves about the dataset: whether young single male as the driving force on Black Friday. On one hand, we know from the dataset that the majority of black friday customers are male, in fact, about 3 times more. On the other hand, we will include other factors (Marital status and high purchase amount) to further test our hypothesis. As we deem profitability in terms of sales/purchase amount, we will focus our analysis around the purchase mean of 20000 as higher the amount would typically imply bigger ticket items. As for the age group, we will look at the combined age group from 18-35. We can confirm that further in our later analyses, but the blue color appears to dominate this area. \n",
    "\n",
    "Note: The legal marrying age at 18 explains the missing column for the 0-17 age group on the second graph "
   ]
  }
 ],
 "metadata": {
  "anaconda-cloud": {},
  "kernelspec": {
   "display_name": "Python 3",
   "language": "python",
   "name": "python3"
  },
  "language_info": {
   "codemirror_mode": {
    "name": "ipython",
    "version": 3
   },
   "file_extension": ".py",
   "mimetype": "text/x-python",
   "name": "python",
   "nbconvert_exporter": "python",
   "pygments_lexer": "ipython3",
   "version": "3.7.1"
  }
 },
 "nbformat": 4,
 "nbformat_minor": 1
}
